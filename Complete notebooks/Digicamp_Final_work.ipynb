{
 "cells": [
  {
   "cell_type": "markdown",
   "id": "28a90bee-22be-4d04-89ca-187dbe3384b0",
   "metadata": {},
   "source": [
    "# Digicamp 2021\n",
    "### Introduction to Python for data analysis\n",
    "www.digicamp.ch\n",
    "\n"
   ]
  },
  {
   "cell_type": "markdown",
   "id": "2d076d05-54c9-418b-a713-2e149fad6870",
   "metadata": {},
   "source": [
    "## Put all together\n",
    "\n",
    "Take away:\n",
    "- work with all we saw in one dataset analysis.\n",
    "\n",
    "#### 22-07-2021\n",
    "Mattia Biancaterra, mattia.biancaterra@usi.ch"
   ]
  },
  {
   "cell_type": "markdown",
   "id": "0c7d7f95-4f77-4d97-9ed7-fd6ca4c78063",
   "metadata": {},
   "source": [
    "#### Dataset provider\n",
    "https://www.kaggle.com/datasets"
   ]
  },
  {
   "cell_type": "markdown",
   "id": "11735307-85fa-430e-99fe-5491a3c1e069",
   "metadata": {},
   "source": [
    "Used in this section:\n",
    "- Students Performance in Exams, https://www.kaggle.com/spscientist/students-performance-in-exams"
   ]
  },
  {
   "cell_type": "markdown",
   "id": "d64af3a7-1563-49cc-91f1-10f61c3d33ee",
   "metadata": {},
   "source": [
    "### Start here"
   ]
  },
  {
   "cell_type": "markdown",
   "id": "466388ad-c17b-425b-91af-8ea94755c34f",
   "metadata": {},
   "source": [
    "Import all the necessary packages an then import the datasets called 'StudentsPerformance.csv'"
   ]
  },
  {
   "cell_type": "code",
   "execution_count": 1,
   "id": "157a10f0-f726-4c17-9042-0b10bb534d04",
   "metadata": {},
   "outputs": [],
   "source": [
    "import pandas as pd\n",
    "import matplotlib.pyplot as plt"
   ]
  },
  {
   "cell_type": "code",
   "execution_count": 2,
   "id": "5088856d-d7e9-4ee3-971b-2c8d9b7b72ba",
   "metadata": {},
   "outputs": [],
   "source": [
    "df = pd.read_csv('StudentsPerformance.csv')"
   ]
  },
  {
   "cell_type": "markdown",
   "id": "c7dc35fe-ffb4-406e-a04a-996869b6fd1f",
   "metadata": {},
   "source": [
    "Now briefly describe in a bullet point the dataset."
   ]
  },
  {
   "cell_type": "markdown",
   "id": "d038fec7-6159-4883-b3d3-67ee3f01aed3",
   "metadata": {},
   "source": [
    "**StudentsPerformance.csv**\n",
    "\n",
    "- Gender, Ethnicity, lunch, and Parental level of education are  columns that describe the studnets info and habits.\n",
    "- Test preparation (done or not), math score, reading score and writing score are three columns that describe the performance of the students."
   ]
  },
  {
   "cell_type": "markdown",
   "id": "2f458ed9-425c-46a2-ba9e-72cf056fbb19",
   "metadata": {},
   "source": [
    "**1)** Compute the average score, in all 3 sections, of each ethinicity group.\n",
    "Hint: Before starting would be importnat to know the number and the name of each group. Use a function. And use copy and paste. will be quicker."
   ]
  },
  {
   "cell_type": "code",
   "execution_count": 3,
   "id": "7b9a238e-204c-4937-bc2e-0614f819e701",
   "metadata": {},
   "outputs": [
    {
     "data": {
      "text/plain": [
       "array(['group B', 'group C', 'group A', 'group D', 'group E'],\n",
       "      dtype=object)"
      ]
     },
     "execution_count": 3,
     "metadata": {},
     "output_type": "execute_result"
    }
   ],
   "source": [
    "df['race/ethnicity'].unique()"
   ]
  },
  {
   "cell_type": "code",
   "execution_count": 4,
   "id": "a79e09a8-ee90-45cb-b151-2e6463f3a795",
   "metadata": {},
   "outputs": [
    {
     "data": {
      "text/plain": [
       "math score       63.452632\n",
       "reading score    67.352632\n",
       "writing score    65.600000\n",
       "dtype: float64"
      ]
     },
     "execution_count": 4,
     "metadata": {},
     "output_type": "execute_result"
    }
   ],
   "source": [
    "df[df['race/ethnicity'] == 'group B'].mean()"
   ]
  },
  {
   "cell_type": "code",
   "execution_count": 5,
   "id": "e4f3bff3-f9b1-400f-8c24-a32efac9406a",
   "metadata": {},
   "outputs": [
    {
     "data": {
      "text/plain": [
       "math score       64.463950\n",
       "reading score    69.103448\n",
       "writing score    67.827586\n",
       "dtype: float64"
      ]
     },
     "execution_count": 5,
     "metadata": {},
     "output_type": "execute_result"
    }
   ],
   "source": [
    "df[df['race/ethnicity'] == 'group C'].mean()"
   ]
  },
  {
   "cell_type": "code",
   "execution_count": 6,
   "id": "68d6beab-bb12-4902-a437-d62059054c25",
   "metadata": {},
   "outputs": [
    {
     "data": {
      "text/plain": [
       "math score       61.629213\n",
       "reading score    64.674157\n",
       "writing score    62.674157\n",
       "dtype: float64"
      ]
     },
     "execution_count": 6,
     "metadata": {},
     "output_type": "execute_result"
    }
   ],
   "source": [
    "df[df['race/ethnicity'] == 'group A'].mean()"
   ]
  },
  {
   "cell_type": "code",
   "execution_count": 7,
   "id": "46a48581-d083-45ad-a86b-f3ac7cb3236b",
   "metadata": {},
   "outputs": [
    {
     "data": {
      "text/plain": [
       "math score       67.362595\n",
       "reading score    70.030534\n",
       "writing score    70.145038\n",
       "dtype: float64"
      ]
     },
     "execution_count": 7,
     "metadata": {},
     "output_type": "execute_result"
    }
   ],
   "source": [
    "df[df['race/ethnicity'] == 'group D'].mean()"
   ]
  },
  {
   "cell_type": "code",
   "execution_count": 8,
   "id": "5b0f2d7f-726a-4396-9890-c5e72c066edd",
   "metadata": {},
   "outputs": [
    {
     "data": {
      "text/plain": [
       "math score       73.821429\n",
       "reading score    73.028571\n",
       "writing score    71.407143\n",
       "dtype: float64"
      ]
     },
     "execution_count": 8,
     "metadata": {},
     "output_type": "execute_result"
    }
   ],
   "source": [
    "df[df['race/ethnicity'] == 'group E'].mean()"
   ]
  },
  {
   "cell_type": "markdown",
   "id": "c97da225-1485-4e3d-bbaf-84d0bc2a64c5",
   "metadata": {},
   "source": [
    "## Extra material\n",
    "\n",
    "This is an extra part that we saw in the last minutes so if you have any question ask me via email or text me on telegram @mat95ty . I will help and discuss with you on these topic."
   ]
  },
  {
   "cell_type": "markdown",
   "id": "2ffed35f-b905-4ae5-a5dd-1f6bbbf8fe26",
   "metadata": {},
   "source": [
    "How to make the code above faster? You can use a for loop. In Python the variable described in the loop, in our case k, takes the value of each element of the list."
   ]
  },
  {
   "cell_type": "code",
   "execution_count": 9,
   "id": "72f9eb2e-605e-4bc8-b444-e9ce747d6d44",
   "metadata": {},
   "outputs": [
    {
     "name": "stdout",
     "output_type": "stream",
     "text": [
      "group B\n",
      " \n",
      "math score       63.452632\n",
      "reading score    67.352632\n",
      "writing score    65.600000\n",
      "dtype: float64\n",
      "group C\n",
      " \n",
      "math score       64.463950\n",
      "reading score    69.103448\n",
      "writing score    67.827586\n",
      "dtype: float64\n",
      "group A\n",
      " \n",
      "math score       61.629213\n",
      "reading score    64.674157\n",
      "writing score    62.674157\n",
      "dtype: float64\n",
      "group D\n",
      " \n",
      "math score       67.362595\n",
      "reading score    70.030534\n",
      "writing score    70.145038\n",
      "dtype: float64\n",
      "group E\n",
      " \n",
      "math score       73.821429\n",
      "reading score    73.028571\n",
      "writing score    71.407143\n",
      "dtype: float64\n"
     ]
    }
   ],
   "source": [
    "for k in  df['race/ethnicity'].unique():\n",
    "    print(k)\n",
    "    print(' ')\n",
    "    print(df[df['race/ethnicity'] == k].mean())\n"
   ]
  },
  {
   "cell_type": "markdown",
   "id": "caddb8c6-f276-439f-ad6d-6cfcdf46c8c3",
   "metadata": {},
   "source": [
    "An 'If Statement' in python can be written almost as you do with pen and paper. Check this out."
   ]
  },
  {
   "cell_type": "code",
   "execution_count": 10,
   "id": "44b83a55-831d-4c2c-9639-675afaff7089",
   "metadata": {},
   "outputs": [
    {
     "name": "stdout",
     "output_type": "stream",
     "text": [
      "15\n"
     ]
    }
   ],
   "source": [
    "x = 15\n",
    "\n",
    "if 12<= x <=40:\n",
    "    print(x)\n",
    "else:\n",
    "    print('X not in the range.')"
   ]
  },
  {
   "cell_type": "markdown",
   "id": "5c647c64-62a4-4d1d-b4db-1e515a5bd213",
   "metadata": {},
   "source": [
    "How to create a function in Python. "
   ]
  },
  {
   "cell_type": "code",
   "execution_count": 11,
   "id": "af869908-d71e-42c0-9391-541b0f6790d4",
   "metadata": {},
   "outputs": [],
   "source": [
    "def myfun(x=1):\n",
    "    return x**2"
   ]
  },
  {
   "cell_type": "code",
   "execution_count": 12,
   "id": "7637e80f-4a1a-4775-a16c-b15df8b2cc60",
   "metadata": {},
   "outputs": [
    {
     "data": {
      "text/plain": [
       "4"
      ]
     },
     "execution_count": 12,
     "metadata": {},
     "output_type": "execute_result"
    }
   ],
   "source": [
    "myfun(2)"
   ]
  },
  {
   "cell_type": "markdown",
   "id": "f8a3d011-9df1-494d-94d9-98af48e52c4b",
   "metadata": {},
   "source": [
    "This a list comprehension. This is an example https://www.w3schools.com/python/python_lists_comprehension.asp \n"
   ]
  },
  {
   "cell_type": "code",
   "execution_count": 13,
   "id": "c13b1508-7031-4208-8d58-8cc0439e263a",
   "metadata": {},
   "outputs": [
    {
     "data": {
      "text/plain": [
       "['apple', 'banana', 'mango']"
      ]
     },
     "execution_count": 13,
     "metadata": {},
     "output_type": "execute_result"
    }
   ],
   "source": [
    "fruits = [\"apple\", \"banana\", \"cherry\", \"kiwi\", \"mango\"]\n",
    "\n",
    "newlist = [x for x in fruits if \"a\" in x]\n",
    "\n",
    "newlist"
   ]
  },
  {
   "cell_type": "markdown",
   "id": "20db4cda-9cca-4d3a-9af3-fb1e47c0c447",
   "metadata": {},
   "source": [
    "**2)** Create a new dataset that includes all students that have standard lunch. Then delete the useless columns with the lunch type."
   ]
  },
  {
   "cell_type": "code",
   "execution_count": 14,
   "id": "b3fdd149-18ae-4c6b-85a7-afd0530d9725",
   "metadata": {},
   "outputs": [],
   "source": [
    "df_lunch = df.copy()[df['lunch'] == 'standard']\n",
    "df_lunch.drop('lunch', axis = 1, inplace = True)"
   ]
  },
  {
   "cell_type": "code",
   "execution_count": 10,
   "id": "c1273dec-4963-46b2-8065-b0ccd4e34650",
   "metadata": {},
   "outputs": [
    {
     "data": {
      "text/html": [
       "<div>\n",
       "<style scoped>\n",
       "    .dataframe tbody tr th:only-of-type {\n",
       "        vertical-align: middle;\n",
       "    }\n",
       "\n",
       "    .dataframe tbody tr th {\n",
       "        vertical-align: top;\n",
       "    }\n",
       "\n",
       "    .dataframe thead th {\n",
       "        text-align: right;\n",
       "    }\n",
       "</style>\n",
       "<table border=\"1\" class=\"dataframe\">\n",
       "  <thead>\n",
       "    <tr style=\"text-align: right;\">\n",
       "      <th></th>\n",
       "      <th>gender</th>\n",
       "      <th>race/ethnicity</th>\n",
       "      <th>parental level of education</th>\n",
       "      <th>test preparation course</th>\n",
       "      <th>math score</th>\n",
       "      <th>reading score</th>\n",
       "      <th>writing score</th>\n",
       "    </tr>\n",
       "  </thead>\n",
       "  <tbody>\n",
       "    <tr>\n",
       "      <th>0</th>\n",
       "      <td>female</td>\n",
       "      <td>group B</td>\n",
       "      <td>bachelor's degree</td>\n",
       "      <td>none</td>\n",
       "      <td>72</td>\n",
       "      <td>72</td>\n",
       "      <td>74</td>\n",
       "    </tr>\n",
       "    <tr>\n",
       "      <th>1</th>\n",
       "      <td>female</td>\n",
       "      <td>group C</td>\n",
       "      <td>some college</td>\n",
       "      <td>completed</td>\n",
       "      <td>69</td>\n",
       "      <td>90</td>\n",
       "      <td>88</td>\n",
       "    </tr>\n",
       "    <tr>\n",
       "      <th>2</th>\n",
       "      <td>female</td>\n",
       "      <td>group B</td>\n",
       "      <td>master's degree</td>\n",
       "      <td>none</td>\n",
       "      <td>90</td>\n",
       "      <td>95</td>\n",
       "      <td>93</td>\n",
       "    </tr>\n",
       "    <tr>\n",
       "      <th>4</th>\n",
       "      <td>male</td>\n",
       "      <td>group C</td>\n",
       "      <td>some college</td>\n",
       "      <td>none</td>\n",
       "      <td>76</td>\n",
       "      <td>78</td>\n",
       "      <td>75</td>\n",
       "    </tr>\n",
       "    <tr>\n",
       "      <th>5</th>\n",
       "      <td>female</td>\n",
       "      <td>group B</td>\n",
       "      <td>associate's degree</td>\n",
       "      <td>none</td>\n",
       "      <td>71</td>\n",
       "      <td>83</td>\n",
       "      <td>78</td>\n",
       "    </tr>\n",
       "    <tr>\n",
       "      <th>...</th>\n",
       "      <td>...</td>\n",
       "      <td>...</td>\n",
       "      <td>...</td>\n",
       "      <td>...</td>\n",
       "      <td>...</td>\n",
       "      <td>...</td>\n",
       "      <td>...</td>\n",
       "    </tr>\n",
       "    <tr>\n",
       "      <th>987</th>\n",
       "      <td>male</td>\n",
       "      <td>group E</td>\n",
       "      <td>some high school</td>\n",
       "      <td>completed</td>\n",
       "      <td>81</td>\n",
       "      <td>75</td>\n",
       "      <td>76</td>\n",
       "    </tr>\n",
       "    <tr>\n",
       "      <th>991</th>\n",
       "      <td>female</td>\n",
       "      <td>group B</td>\n",
       "      <td>some high school</td>\n",
       "      <td>completed</td>\n",
       "      <td>65</td>\n",
       "      <td>82</td>\n",
       "      <td>78</td>\n",
       "    </tr>\n",
       "    <tr>\n",
       "      <th>994</th>\n",
       "      <td>male</td>\n",
       "      <td>group A</td>\n",
       "      <td>high school</td>\n",
       "      <td>none</td>\n",
       "      <td>63</td>\n",
       "      <td>63</td>\n",
       "      <td>62</td>\n",
       "    </tr>\n",
       "    <tr>\n",
       "      <th>995</th>\n",
       "      <td>female</td>\n",
       "      <td>group E</td>\n",
       "      <td>master's degree</td>\n",
       "      <td>completed</td>\n",
       "      <td>88</td>\n",
       "      <td>99</td>\n",
       "      <td>95</td>\n",
       "    </tr>\n",
       "    <tr>\n",
       "      <th>998</th>\n",
       "      <td>female</td>\n",
       "      <td>group D</td>\n",
       "      <td>some college</td>\n",
       "      <td>completed</td>\n",
       "      <td>68</td>\n",
       "      <td>78</td>\n",
       "      <td>77</td>\n",
       "    </tr>\n",
       "  </tbody>\n",
       "</table>\n",
       "<p>645 rows × 7 columns</p>\n",
       "</div>"
      ],
      "text/plain": [
       "     gender race/ethnicity parental level of education  \\\n",
       "0    female        group B           bachelor's degree   \n",
       "1    female        group C                some college   \n",
       "2    female        group B             master's degree   \n",
       "4      male        group C                some college   \n",
       "5    female        group B          associate's degree   \n",
       "..      ...            ...                         ...   \n",
       "987    male        group E            some high school   \n",
       "991  female        group B            some high school   \n",
       "994    male        group A                 high school   \n",
       "995  female        group E             master's degree   \n",
       "998  female        group D                some college   \n",
       "\n",
       "    test preparation course  math score  reading score  writing score  \n",
       "0                      none          72             72             74  \n",
       "1                 completed          69             90             88  \n",
       "2                      none          90             95             93  \n",
       "4                      none          76             78             75  \n",
       "5                      none          71             83             78  \n",
       "..                      ...         ...            ...            ...  \n",
       "987               completed          81             75             76  \n",
       "991               completed          65             82             78  \n",
       "994                    none          63             63             62  \n",
       "995               completed          88             99             95  \n",
       "998               completed          68             78             77  \n",
       "\n",
       "[645 rows x 7 columns]"
      ]
     },
     "execution_count": 10,
     "metadata": {},
     "output_type": "execute_result"
    }
   ],
   "source": [
    "df_lunch"
   ]
  },
  {
   "cell_type": "markdown",
   "id": "0ab866c9-8555-4f42-85b3-d419cd59ad28",
   "metadata": {},
   "source": [
    "**3)** Check how many people have passed the 3 exams. The passing grade is 60. You can also compute the percentage of students that passed the exams."
   ]
  },
  {
   "cell_type": "code",
   "execution_count": 11,
   "id": "e39bee99-dc99-48b6-bc5e-cf8b9685f170",
   "metadata": {},
   "outputs": [
    {
     "data": {
      "text/plain": [
       "0.7705426356589147"
      ]
     },
     "execution_count": 11,
     "metadata": {},
     "output_type": "execute_result"
    }
   ],
   "source": [
    "sum(df_lunch['math score']>= 60)/len(df_lunch)"
   ]
  },
  {
   "cell_type": "code",
   "execution_count": 12,
   "id": "10657928-2d7e-48a6-aaa6-37365ec4957b",
   "metadata": {},
   "outputs": [
    {
     "data": {
      "text/plain": [
       "0.8077519379844961"
      ]
     },
     "execution_count": 12,
     "metadata": {},
     "output_type": "execute_result"
    }
   ],
   "source": [
    "sum(df_lunch['reading score']>= 60)/len(df_lunch)"
   ]
  },
  {
   "cell_type": "code",
   "execution_count": 13,
   "id": "1db328a7-9fb0-4ffe-a17a-32aac667529d",
   "metadata": {
    "tags": []
   },
   "outputs": [
    {
     "data": {
      "text/plain": [
       "0.7875968992248062"
      ]
     },
     "execution_count": 13,
     "metadata": {},
     "output_type": "execute_result"
    }
   ],
   "source": [
    "sum(df_lunch['writing score']>= 60)/len(df_lunch)"
   ]
  },
  {
   "cell_type": "markdown",
   "id": "093e49d5-78c3-4efc-b67e-41815bc734d3",
   "metadata": {},
   "source": [
    "**4)** Now plot the distribution of math scores for the new dataset just created. Try to make it looking nice with some kind of personalisation. In the cheatsheet folder there is a colour map of what can be used."
   ]
  },
  {
   "cell_type": "code",
   "execution_count": 14,
   "id": "086388d7-e8cd-4d88-851d-c826c93370cf",
   "metadata": {},
   "outputs": [
    {
     "data": {
      "text/plain": [
       "<AxesSubplot:>"
      ]
     },
     "execution_count": 14,
     "metadata": {},
     "output_type": "execute_result"
    },
    {
     "data": {
      "image/png": "[encoded data removed]",
      "text/plain": [
       "<Figure size 432x288 with 1 Axes>"
      ]
     },
     "metadata": {
      "needs_background": "light"
     },
     "output_type": "display_data"
    }
   ],
   "source": [
    "# this is a valid solution but could be better\n",
    "df_lunch['math score'].hist()"
   ]
  },
  {
   "cell_type": "code",
   "execution_count": 15,
   "id": "1621fee7-a04f-424c-92d6-d179001aa751",
   "metadata": {},
   "outputs": [
    {
     "data": {
      "image/png": "[encoded data removed]",
      "text/plain": [
       "<Figure size 432x288 with 1 Axes>"
      ]
     },
     "metadata": {
      "needs_background": "light"
     },
     "output_type": "display_data"
    }
   ],
   "source": [
    "df_lunch['math score'].hist(color = 'deepskyblue',\n",
    "                            ec = 'k',\n",
    "                            alpha = 0.6)\n",
    "plt.grid(False)\n",
    "plt.show()"
   ]
  },
  {
   "cell_type": "markdown",
   "id": "781da7f7-fdd9-4444-9de6-fdfdeff2918a",
   "metadata": {},
   "source": [
    "**5)** Show the cumulative number of student over the scores/grades."
   ]
  },
  {
   "cell_type": "code",
   "execution_count": 16,
   "id": "85194a34-03b8-4073-a6e6-7dc6d96f5f94",
   "metadata": {},
   "outputs": [
    {
     "data": {
      "image/png": "[encoded data removed]",
      "text/plain": [
       "<Figure size 432x288 with 1 Axes>"
      ]
     },
     "metadata": {
      "needs_background": "light"
     },
     "output_type": "display_data"
    }
   ],
   "source": [
    "df_lunch['math score'].hist(histtype = 'step',\n",
    "                            cumulative = True,\n",
    "                            ec = 'deepskyblue',\n",
    "                            lw = 2)\n",
    "plt.grid(False)\n",
    "plt.show()"
   ]
  },
  {
   "cell_type": "code",
   "execution_count": null,
   "id": "08054268-8b10-490a-8a93-1b608f745cf4",
   "metadata": {},
   "outputs": [],
   "source": []
  }
 ],
 "metadata": {
  "kernelspec": {
   "display_name": "Python 3",
   "language": "python",
   "name": "python3"
  },
  "language_info": {
   "codemirror_mode": {
    "name": "ipython",
    "version": 3
   },
   "file_extension": ".py",
   "mimetype": "text/x-python",
   "name": "python",
   "nbconvert_exporter": "python",
   "pygments_lexer": "ipython3",
   "version": "3.8.8"
  }
 },
 "nbformat": 4,
 "nbformat_minor": 5
}
