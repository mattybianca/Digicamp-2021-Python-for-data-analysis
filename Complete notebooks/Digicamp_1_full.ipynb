{
 "cells": [
  {
   "cell_type": "markdown",
   "metadata": {},
   "source": [
    "# Digicamp 2021\n",
    "### Introduction to Python for data analysis\n",
    "www.digicamp.ch\n",
    "\n"
   ]
  },
  {
   "cell_type": "markdown",
   "metadata": {},
   "source": [
    "### Jupyter notebook and Markdown\n",
    "Take away:\n",
    "- write a simple markdown/Latex text\n",
    "\n",
    "#### 22-07-2021\n",
    "Mattia Biancaterra, mattia.biancaterra@usi.ch"
   ]
  },
  {
   "cell_type": "markdown",
   "metadata": {},
   "source": [
    "Hi everyone this is the first row written in a markdown cell.\n",
    "This is the simpliest form of markdown."
   ]
  },
  {
   "cell_type": "markdown",
   "metadata": {},
   "source": [
    "```\n",
    "# H1\n",
    "## H2\n",
    "### H3\n",
    "#### H4\n",
    "\n",
    "```\n",
    "These are called headers. they are very useful to write titles or something worth noticing.\n",
    "Here are the exmaple:\n",
    "\n",
    "# Header1\n",
    "## Header2\n",
    "### Header3\n",
    "#### Header4\n"
   ]
  },
  {
   "cell_type": "markdown",
   "metadata": {},
   "source": [
    "You can also use Bold or Italic:\n",
    "\n",
    "```\n",
    "**This is Bold**\n",
    "and\n",
    "*This is Italic*\n",
    "```\n",
    "\n",
    "**This is Bold**\n",
    "and\n",
    "*This is Italic*"
   ]
  },
  {
   "cell_type": "markdown",
   "metadata": {},
   "source": [
    "One of the most interesting feature of markdown is the simple form of listing objects.\n",
    "\n",
    "In Order:\n",
    "```\n",
    "1. point 1\n",
    "2. point 2\n",
    "3. point 3\n",
    "```\n",
    "\n",
    "1. point 1\n",
    "2. point 2\n",
    "3. point 3\n",
    "\n",
    "Without Order:\n",
    "\n",
    "```\n",
    "- an object\n",
    "- another one\n",
    "```\n",
    "\n",
    "- an object\n",
    "- another one\n",
    "        \n",
    "\n",
    "\n",
    "\n"
   ]
  },
  {
   "cell_type": "markdown",
   "metadata": {},
   "source": [
    "### A bit of Latex"
   ]
  },
  {
   "cell_type": "markdown",
   "metadata": {},
   "source": [
    "You can write Latex codes in Markdown cells.\n",
    "\n",
    "Few examples."
   ]
  },
  {
   "cell_type": "markdown",
   "metadata": {},
   "source": [
    "One dollar sign, the formula stays in the line.\n",
    "\n",
    "$HI^{high}_{low}$\n",
    "\n",
    "With 2 dollar signs it is centered.\n",
    "\n",
    "$$25 \\times 5 = 125$$\n",
    "\n",
    "$$\\alpha, \\beta, \\gamma, \\delta$$\n",
    "\n",
    "$$std = \\sigma = \\sqrt{\\sigma^2} = \\sqrt{Var}$$\n",
    "\n"
   ]
  },
  {
   "cell_type": "markdown",
   "metadata": {},
   "source": [
    "### Now you try:\n",
    "\n",
    "- Create a markdown cell with a title (H1) ''Test'', and a subtitle(H2) ''My first markdown''\n",
    "- Then in another cell create a list (bullet point) with 3 dishes. For each one create a sub-point with one casual word.\n",
    "- Write a centered formula."
   ]
  },
  {
   "cell_type": "markdown",
   "metadata": {},
   "source": []
  }
 ],
 "metadata": {
  "kernelspec": {
   "display_name": "Python 3",
   "language": "python",
   "name": "python3"
  },
  "language_info": {
   "codemirror_mode": {
    "name": "ipython",
    "version": 3
   },
   "file_extension": ".py",
   "mimetype": "text/x-python",
   "name": "python",
   "nbconvert_exporter": "python",
   "pygments_lexer": "ipython3",
   "version": "3.8.8"
  }
 },
 "nbformat": 4,
 "nbformat_minor": 4
}
